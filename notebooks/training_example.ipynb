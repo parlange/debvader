{
 "cells": [
  {
   "cell_type": "code",
   "execution_count": 1,
   "id": "35d45244-cd14-45ac-9361-b5788d873132",
   "metadata": {},
   "outputs": [
    {
     "name": "stderr",
     "output_type": "stream",
     "text": [
      "2024-11-05 02:57:53.090302: I tensorflow/core/util/port.cc:110] oneDNN custom operations are on. You may see slightly different numerical results due to floating-point round-off errors from different computation orders. To turn them off, set the environment variable `TF_ENABLE_ONEDNN_OPTS=0`.\n",
      "2024-11-05 02:57:53.114469: I tensorflow/core/platform/cpu_feature_guard.cc:182] This TensorFlow binary is optimized to use available CPU instructions in performance-critical operations.\n",
      "To enable the following instructions: AVX2 AVX_VNNI FMA, in other operations, rebuild TensorFlow with the appropriate compiler flags.\n",
      "2024-11-05 02:57:53.626640: W tensorflow/compiler/tf2tensorrt/utils/py_utils.cc:38] TF-TRT Warning: Could not find TensorRT\n"
     ]
    }
   ],
   "source": [
    "import os\n",
    "import numpy as np\n",
    "import matplotlib.pyplot as plt\n",
    "import tensorflow as tf\n",
    "import pkg_resources\n",
    "\n",
    "from debvader.training.train import train_deblender"
   ]
  },
  {
   "cell_type": "markdown",
   "id": "66748883-003b-4a6d-80ef-8c138be461db",
   "metadata": {},
   "source": [
    "### Download and format data"
   ]
  },
  {
   "cell_type": "markdown",
   "id": "1c825abd-c046-4161-aa3f-1a5df9d80a28",
   "metadata": {},
   "source": [
    "Download dataset that will be used for training. It has been generated using the code in https://github.com/BastienArcelin/dc2_img_generation and the stamps are generated using the XXX function see notebook XXX. The size of the stamp is then fixed to 59x59 pixels."
   ]
  },
  {
   "cell_type": "code",
   "execution_count": 2,
   "id": "5ca8dabd-65f7-41f4-8bc0-2b34d72c5fb2",
   "metadata": {},
   "outputs": [],
   "source": [
    "data_folder_path = pkg_resources.resource_filename('debvader', \"data/\")\n",
    "image_path = os.path.join(data_folder_path + '/dc2_imgs/imgs_dc2.npy')\n",
    "images = np.load(image_path, mmap_mode = 'c')"
   ]
  },
  {
   "cell_type": "code",
   "execution_count": 3,
   "id": "03e779cf-0f41-4160-abb6-04dbde92879e",
   "metadata": {},
   "outputs": [
    {
     "data": {
      "text/plain": [
       "(10, 59, 59, 6)"
      ]
     },
     "execution_count": 3,
     "metadata": {},
     "output_type": "execute_result"
    }
   ],
   "source": [
    "images.shape"
   ]
  },
  {
   "cell_type": "markdown",
   "id": "bca82e2c-1861-415b-b7bb-ca8d3c340db4",
   "metadata": {},
   "source": [
    "Separate training data and labels to feed the VAE and deblender. You should be careful that the number of filter in the data for trainng correspond to the number of bands considered for the network (default is six)."
   ]
  },
  {
   "cell_type": "code",
   "execution_count": 6,
   "id": "0bbbd6b9-096f-483e-900a-0205ace347cd",
   "metadata": {},
   "outputs": [],
   "source": [
    "training_data_vae = np.array((images[:5], images[:5]))\n",
    "validation_data_vae = np.array((images[5:], images[5:]))\n",
    "\n",
    "training_data_deblender = np.array((images[:5], images[:5]))\n",
    "validation_data_deblender = np.array((images[5:], images[5:]))"
   ]
  },
  {
   "cell_type": "markdown",
   "id": "fc46b4ec-f29d-4d8e-b7b4-dc6d6a02e8b0",
   "metadata": {},
   "source": [
    "### Train the VAE and deblender with architecture from the debvader paper (https://arxiv.org/abs/2005.12039)"
   ]
  },
  {
   "cell_type": "code",
   "execution_count": 7,
   "id": "60f18d0e-4cc6-4a31-8e24-d849e1e3555a",
   "metadata": {},
   "outputs": [
    {
     "name": "stdout",
     "output_type": "stream",
     "text": [
      "in cropping\n",
      "VAE model\n",
      "Model: \"model_6\"\n",
      "_________________________________________________________________\n",
      " Layer (type)                Output Shape              Param #   \n",
      "=================================================================\n",
      " input_6 (InputLayer)        [(None, 59, 59, 6)]       0         \n",
      "                                                                 \n",
      " model_4 (Functional)        (None, 560)               3741224   \n",
      "                                                                 \n",
      " multivariate_normal_tri_l_  ((None, 32),              0         \n",
      " 1 (MultivariateNormalTriL)   (None, 32))                        \n",
      "                                                                 \n",
      " model_5 (Functional)        (None, 59, 59, 6)         4577228   \n",
      "                                                                 \n",
      "=================================================================\n",
      "Total params: 8318452 (31.73 MB)\n",
      "Trainable params: 8318440 (31.73 MB)\n",
      "Non-trainable params: 12 (48.00 Byte)\n",
      "_________________________________________________________________\n",
      "/home/parlange/debvader/src/debvader/data/weights/dc2\n",
      "\n",
      "Start the training\n",
      "Epoch 1/2\n",
      "1/1 - 3s - loss: 2288651.5000 - mse: 0.0792 - kl_metric: 0.2524 - val_loss: 1146109.6250 - val_mse: 0.0985 - val_kl_metric: 0.2620 - 3s/epoch - 3s/step\n",
      "Epoch 2/2\n",
      "1/1 - 0s - loss: 1172548.2500 - mse: 0.0819 - kl_metric: 0.2864 - val_loss: 410389.3125 - val_mse: 0.1054 - val_kl_metric: 0.2456 - 47ms/epoch - 47ms/step\n",
      "\n",
      "Training of VAE done.\n",
      "\n",
      "\n",
      "Deblender model\n",
      "Model: \"model_6\"\n",
      "_________________________________________________________________\n",
      " Layer (type)                Output Shape              Param #   \n",
      "=================================================================\n",
      " input_6 (InputLayer)        [(None, 59, 59, 6)]       0         \n",
      "                                                                 \n",
      " model_4 (Functional)        (None, 560)               3741224   \n",
      "                                                                 \n",
      " multivariate_normal_tri_l_  ((None, 32),              0         \n",
      " 1 (MultivariateNormalTriL)   (None, 32))                        \n",
      "                                                                 \n",
      " model_5 (Functional)        (None, 59, 59, 6)         4577228   \n",
      "                                                                 \n",
      "=================================================================\n",
      "Total params: 8318452 (31.73 MB)\n",
      "Trainable params: 3741212 (14.27 MB)\n",
      "Non-trainable params: 4577240 (17.46 MB)\n",
      "_________________________________________________________________\n",
      "\n",
      "Start the training\n",
      "Epoch 1/2\n",
      "1/1 - 2s - loss: 821666.5625 - mse: 0.0995 - kl_metric: 0.3106 - val_loss: 407995.5938 - val_mse: 0.1018 - val_kl_metric: 0.2469 - 2s/epoch - 2s/step\n",
      "Epoch 2/2\n",
      "1/1 - 0s - loss: 550987.4375 - mse: 0.1061 - kl_metric: 0.2999 - val_loss: 380688.1562 - val_mse: 0.1032 - val_kl_metric: 0.2218 - 52ms/epoch - 52ms/step\n",
      "\n",
      "Training of Deblender done.\n"
     ]
    }
   ],
   "source": [
    "hist_vae, hist_deblender, net = train_deblender(\"lsst\",\n",
    "                                                      from_survey = \"dc2\", \n",
    "                                                      epochs = 2, \n",
    "                                                      training_data_vae = training_data_vae, \n",
    "                                                      validation_data_vae = validation_data_vae, \n",
    "                                                      training_data_deblender = training_data_deblender, \n",
    "                                                      validation_data_deblender = validation_data_deblender)"
   ]
  },
  {
   "cell_type": "markdown",
   "id": "95afcab4-5c6f-44e2-8b20-c17c8ee434e7",
   "metadata": {},
   "source": [
    "### Dataset with a different number of filters"
   ]
  },
  {
   "cell_type": "markdown",
   "id": "87aa14b7-5dbc-44a1-9f83-dc7a4ad5dd7e",
   "metadata": {},
   "source": [
    "The number of available filters is different for each survey. For example, five filters are available for DES data. To change that you should specify it in the train_deblender function, as well as if the channels appear last or first in the data array."
   ]
  },
  {
   "cell_type": "code",
   "execution_count": 8,
   "id": "dfb93b18-59c9-4ee7-ab9f-76cadda8e4d1",
   "metadata": {},
   "outputs": [
    {
     "data": {
      "text/plain": [
       "(2, 5, 59, 59, 6)"
      ]
     },
     "execution_count": 8,
     "metadata": {},
     "output_type": "execute_result"
    }
   ],
   "source": [
    "training_data_vae.shape"
   ]
  },
  {
   "cell_type": "markdown",
   "id": "42def587-2133-457d-b655-d970a61468ae",
   "metadata": {},
   "source": [
    "Here the channels appear last in the data array. So the channel_first option in the train_deblender function is set as False (default setting)."
   ]
  },
  {
   "cell_type": "code",
   "execution_count": 11,
   "id": "15aac255-0f03-438f-811a-49d6d1f95a4e",
   "metadata": {},
   "outputs": [
    {
     "name": "stdout",
     "output_type": "stream",
     "text": [
      "in cropping\n",
      "VAE model\n",
      "Model: \"model_18\"\n",
      "_________________________________________________________________\n",
      " Layer (type)                Output Shape              Param #   \n",
      "=================================================================\n",
      " input_15 (InputLayer)       [(None, 59, 59, 6)]       0         \n",
      "                                                                 \n",
      " model_16 (Functional)       (None, 560)               3741224   \n",
      "                                                                 \n",
      " multivariate_normal_tri_l_  ((None, 32),              0         \n",
      " 4 (MultivariateNormalTriL)   (None, 32))                        \n",
      "                                                                 \n",
      " model_17 (Functional)       (None, 59, 59, 6)         4577228   \n",
      "                                                                 \n",
      "=================================================================\n",
      "Total params: 8318452 (31.73 MB)\n",
      "Trainable params: 8318440 (31.73 MB)\n",
      "Non-trainable params: 12 (48.00 Byte)\n",
      "_________________________________________________________________\n",
      "/home/parlange/debvader/src/debvader/data/weights/dc2\n",
      "\n",
      "Start the training\n",
      "Epoch 1/2\n",
      "WARNING:tensorflow:5 out of the last 9 calls to <function Model.make_train_function.<locals>.train_function at 0x7b7434113920> triggered tf.function retracing. Tracing is expensive and the excessive number of tracings could be due to (1) creating @tf.function repeatedly in a loop, (2) passing tensors with different shapes, (3) passing Python objects instead of tensors. For (1), please define your @tf.function outside of the loop. For (2), @tf.function has reduce_retracing=True option that can avoid unnecessary retracing. For (3), please refer to https://www.tensorflow.org/guide/function#controlling_retracing and https://www.tensorflow.org/api_docs/python/tf/function for  more details.\n",
      "WARNING:tensorflow:5 out of the last 9 calls to <function Model.make_test_function.<locals>.test_function at 0x7b74ac147f60> triggered tf.function retracing. Tracing is expensive and the excessive number of tracings could be due to (1) creating @tf.function repeatedly in a loop, (2) passing tensors with different shapes, (3) passing Python objects instead of tensors. For (1), please define your @tf.function outside of the loop. For (2), @tf.function has reduce_retracing=True option that can avoid unnecessary retracing. For (3), please refer to https://www.tensorflow.org/guide/function#controlling_retracing and https://www.tensorflow.org/api_docs/python/tf/function for  more details.\n",
      "1/1 - 2s - loss: 2248010.7500 - mse: 0.0791 - kl_metric: 0.2577 - val_loss: 1191128.2500 - val_mse: 0.0991 - val_kl_metric: 0.2597 - 2s/epoch - 2s/step\n",
      "Epoch 2/2\n",
      "1/1 - 0s - loss: 1173837.0000 - mse: 0.0911 - kl_metric: 0.2520 - val_loss: 430390.4062 - val_mse: 0.1023 - val_kl_metric: 0.2570 - 29ms/epoch - 29ms/step\n",
      "\n",
      "Training of VAE done.\n",
      "\n",
      "\n",
      "Deblender model\n",
      "Model: \"model_18\"\n",
      "_________________________________________________________________\n",
      " Layer (type)                Output Shape              Param #   \n",
      "=================================================================\n",
      " input_15 (InputLayer)       [(None, 59, 59, 6)]       0         \n",
      "                                                                 \n",
      " model_16 (Functional)       (None, 560)               3741224   \n",
      "                                                                 \n",
      " multivariate_normal_tri_l_  ((None, 32),              0         \n",
      " 4 (MultivariateNormalTriL)   (None, 32))                        \n",
      "                                                                 \n",
      " model_17 (Functional)       (None, 59, 59, 6)         4577228   \n",
      "                                                                 \n",
      "=================================================================\n",
      "Total params: 8318452 (31.73 MB)\n",
      "Trainable params: 3741212 (14.27 MB)\n",
      "Non-trainable params: 4577240 (17.46 MB)\n",
      "_________________________________________________________________\n",
      "\n",
      "Start the training\n",
      "Epoch 1/2\n",
      "WARNING:tensorflow:6 out of the last 11 calls to <function Model.make_train_function.<locals>.train_function at 0x7b7434336fc0> triggered tf.function retracing. Tracing is expensive and the excessive number of tracings could be due to (1) creating @tf.function repeatedly in a loop, (2) passing tensors with different shapes, (3) passing Python objects instead of tensors. For (1), please define your @tf.function outside of the loop. For (2), @tf.function has reduce_retracing=True option that can avoid unnecessary retracing. For (3), please refer to https://www.tensorflow.org/guide/function#controlling_retracing and https://www.tensorflow.org/api_docs/python/tf/function for  more details.\n",
      "WARNING:tensorflow:6 out of the last 11 calls to <function Model.make_test_function.<locals>.test_function at 0x7b73f85aa520> triggered tf.function retracing. Tracing is expensive and the excessive number of tracings could be due to (1) creating @tf.function repeatedly in a loop, (2) passing tensors with different shapes, (3) passing Python objects instead of tensors. For (1), please define your @tf.function outside of the loop. For (2), @tf.function has reduce_retracing=True option that can avoid unnecessary retracing. For (3), please refer to https://www.tensorflow.org/guide/function#controlling_retracing and https://www.tensorflow.org/api_docs/python/tf/function for  more details.\n",
      "1/1 - 2s - loss: 726476.8125 - mse: 0.1551 - kl_metric: 0.2513 - val_loss: 392946.7812 - val_mse: 0.1118 - val_kl_metric: 0.2705 - 2s/epoch - 2s/step\n",
      "Epoch 2/2\n",
      "1/1 - 0s - loss: 425884.1875 - mse: 0.1568 - kl_metric: 0.3031 - val_loss: 404762.2500 - val_mse: 0.1057 - val_kl_metric: 0.2657 - 50ms/epoch - 50ms/step\n",
      "\n",
      "Training of Deblender done.\n"
     ]
    }
   ],
   "source": [
    "hist_vae, hist_deblender, net = train_deblender(\"des\",\n",
    "                                                      from_survey = \"dc2\", \n",
    "                                                      epochs = 2, \n",
    "                                                      training_data_vae = training_data_vae, \n",
    "                                                      validation_data_vae = validation_data_vae, \n",
    "                                                      training_data_deblender = training_data_deblender, \n",
    "                                                      validation_data_deblender = validation_data_deblender,\n",
    "                                                      nb_of_bands = 6,\n",
    "                                                      channel_last = True)"
   ]
  },
  {
   "cell_type": "markdown",
   "id": "a63c1b5e-ca38-4e76-a46e-3b477e88f3ca",
   "metadata": {},
   "source": [
    "We need to change the training data format. For example just train on the five fist channels."
   ]
  },
  {
   "cell_type": "code",
   "execution_count": 12,
   "id": "15df582c-b35b-492d-9bbf-8a9d0ce4d8fe",
   "metadata": {},
   "outputs": [],
   "source": [
    "training_data_vae_deslike = np.array((images[:5,:,:,:5], images[:5,:,:,:5]))\n",
    "validation_data_vae_deslike = np.array((images[5:,:,:,:5], images[5:,:,:,:5]))\n",
    "\n",
    "training_data_deblender_deslike = np.array((images[:5,:,:,:5], images[:5,:,:,:5]))\n",
    "validation_data_deblender_deslike = np.array((images[5:,:,:,:5], images[5:,:,:,:5]))"
   ]
  },
  {
   "cell_type": "markdown",
   "id": "4032f71a-fa6f-42cd-a626-39d3a52fa162",
   "metadata": {},
   "source": [
    "Now try the training:"
   ]
  },
  {
   "cell_type": "markdown",
   "id": "c9cd53c2-75fd-48c3-b9c7-e907d4f3ba06",
   "metadata": {},
   "source": [
    "Warning: we cannot use the weights from the network trained on DC2 as the data has six channels in that case. We need to set the from_survey option to None."
   ]
  },
  {
   "cell_type": "code",
   "execution_count": 13,
   "id": "b74e8b6f-a312-4ae4-b521-2b957950f1f3",
   "metadata": {},
   "outputs": [
    {
     "name": "stdout",
     "output_type": "stream",
     "text": [
      "in cropping\n",
      "VAE model\n",
      "Model: \"model_22\"\n",
      "_________________________________________________________________\n",
      " Layer (type)                Output Shape              Param #   \n",
      "=================================================================\n",
      " input_18 (InputLayer)       [(None, 59, 59, 5)]       0         \n",
      "                                                                 \n",
      " model_20 (Functional)       (None, 560)               3740932   \n",
      "                                                                 \n",
      " multivariate_normal_tri_l_  ((None, 32),              0         \n",
      " 5 (MultivariateNormalTriL)   (None, 32))                        \n",
      "                                                                 \n",
      " model_21 (Functional)       (None, 59, 59, 5)         4576650   \n",
      "                                                                 \n",
      "=================================================================\n",
      "Total params: 8317582 (31.73 MB)\n",
      "Trainable params: 8317572 (31.73 MB)\n",
      "Non-trainable params: 10 (40.00 Byte)\n",
      "_________________________________________________________________\n",
      "\n",
      "Start the training\n",
      "Epoch 1/2\n",
      "1/1 - 2s - loss: 1949626.7500 - mse: 0.0608 - kl_metric: 0.0629 - val_loss: 1019718.1250 - val_mse: 0.0929 - val_kl_metric: 0.0836 - 2s/epoch - 2s/step\n",
      "Epoch 2/2\n",
      "1/1 - 0s - loss: 506362.5938 - mse: 0.0608 - kl_metric: 0.0700 - val_loss: 797589.3125 - val_mse: 0.0929 - val_kl_metric: 0.0836 - 40ms/epoch - 40ms/step\n",
      "\n",
      "Training of VAE done.\n",
      "\n",
      "\n",
      "Deblender model\n",
      "Model: \"model_22\"\n",
      "_________________________________________________________________\n",
      " Layer (type)                Output Shape              Param #   \n",
      "=================================================================\n",
      " input_18 (InputLayer)       [(None, 59, 59, 5)]       0         \n",
      "                                                                 \n",
      " model_20 (Functional)       (None, 560)               3740932   \n",
      "                                                                 \n",
      " multivariate_normal_tri_l_  ((None, 32),              0         \n",
      " 5 (MultivariateNormalTriL)   (None, 32))                        \n",
      "                                                                 \n",
      " model_21 (Functional)       (None, 59, 59, 5)         4576650   \n",
      "                                                                 \n",
      "=================================================================\n",
      "Total params: 8317582 (31.73 MB)\n",
      "Trainable params: 3740922 (14.27 MB)\n",
      "Non-trainable params: 4576660 (17.46 MB)\n",
      "_________________________________________________________________\n",
      "\n",
      "Start the training\n",
      "Epoch 1/2\n",
      "1/1 - 2s - loss: 248469.7031 - mse: 0.0608 - kl_metric: 0.0506 - val_loss: 783162.8750 - val_mse: 0.0929 - val_kl_metric: 0.0715 - 2s/epoch - 2s/step\n",
      "Epoch 2/2\n",
      "1/1 - 0s - loss: 256100.4062 - mse: 0.0608 - kl_metric: 0.0608 - val_loss: 766758.4375 - val_mse: 0.0929 - val_kl_metric: 0.0313 - 50ms/epoch - 50ms/step\n",
      "\n",
      "Training of Deblender done.\n"
     ]
    }
   ],
   "source": [
    "hist_vae, hist_deblender, net = train_deblender(\"des\",\n",
    "                                                      from_survey = None, \n",
    "                                                      epochs = 2, \n",
    "                                                      training_data_vae = training_data_vae_deslike, \n",
    "                                                      validation_data_vae = validation_data_vae_deslike, \n",
    "                                                      training_data_deblender = training_data_deblender_deslike, \n",
    "                                                      validation_data_deblender = validation_data_deblender_deslike,\n",
    "                                                      nb_of_bands = 5,\n",
    "                                                      channel_last = True)"
   ]
  }
 ],
 "metadata": {
  "kernelspec": {
   "display_name": "debvader",
   "language": "python",
   "name": "debvader"
  },
  "language_info": {
   "codemirror_mode": {
    "name": "ipython",
    "version": 3
   },
   "file_extension": ".py",
   "mimetype": "text/x-python",
   "name": "python",
   "nbconvert_exporter": "python",
   "pygments_lexer": "ipython3",
   "version": "3.11.6"
  }
 },
 "nbformat": 4,
 "nbformat_minor": 5
}
